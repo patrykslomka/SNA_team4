{
  "nbformat": 4,
  "nbformat_minor": 0,
  "metadata": {
    "colab": {
      "provenance": []
    },
    "kernelspec": {
      "name": "python3",
      "display_name": "Python 3"
    },
    "language_info": {
      "name": "python"
    }
  },
  "cells": [
    {
      "cell_type": "code",
      "source": [
        "import pandas as pd\n",
        "\n",
        "# Load the data\n",
        "data = pd.read_excel(\"BACRIM2020-DB.xlsx\")\n",
        "\n",
        "# Ensure the 'estado' column contains the states in a format that can be split\n",
        "data['estado'] = data['estado'].fillna('')  # Fill any NaN with an empty string\n",
        "\n",
        "# One-hot encode the 'estado' column for each unique group\n",
        "# Assuming the delimiter is ';' - adjust if needed\n",
        "states_expanded = data[['grupo', 'estado']].drop_duplicates()  # Keep only unique combinations\n",
        "states_expanded = states_expanded.set_index('grupo')['estado'].str.get_dummies(sep=';')\n",
        "\n",
        "# Combine one-hot encoded states with unique groups\n",
        "final_data = states_expanded.groupby('grupo').max().reset_index()\n",
        "\n",
        "# Save the result to an Excel file\n",
        "output_path = 'groups_with_state_dummies.xlsx'\n",
        "final_data.to_excel(output_path, index=False)\n",
        "\n",
        "print(f\"File saved as '{output_path}'\")\n"
      ],
      "metadata": {
        "id": "pQT-jTw_Ur7s",
        "colab": {
          "base_uri": "https://localhost:8080/"
        },
        "outputId": "8b64510e-4bec-4dd2-fc93-2b307f91202e"
      },
      "execution_count": 1,
      "outputs": [
        {
          "output_type": "stream",
          "name": "stdout",
          "text": [
            "File saved as 'groups_with_state_dummies.xlsx'\n"
          ]
        }
      ]
    }
  ]
}